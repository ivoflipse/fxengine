{
 "cells": [
  {
   "cell_type": "code",
   "execution_count": 1,
   "metadata": {
    "collapsed": true
   },
   "outputs": [],
   "source": [
    "import pandas as pd\n",
    "import numpy as np\n",
    "from itertools import product"
   ]
  },
  {
   "cell_type": "code",
   "execution_count": 2,
   "metadata": {
    "collapsed": false
   },
   "outputs": [
    {
     "name": "stdout",
     "output_type": "stream",
     "text": [
      "                      value\n",
      "A     B     C              \n",
      "False False False  3.205628\n",
      "            True   0.364818\n",
      "      True  False -2.112360\n",
      "            True   0.743399\n",
      "True  False False -0.283254\n",
      "            True  -0.394868\n",
      "      True  False -1.963577\n"
     ]
    }
   ],
   "source": [
    "# create grouped df with 'missing' category\n",
    "s1 = set((True, False))\n",
    "combis = list(set(product(s1, repeat = 3)))\n",
    "df = pd.DataFrame(combis, columns=['A','B','C'])\n",
    "df2 = df.copy(deep=True)\n",
    "df2['new_index'] = range(8,16)\n",
    "df2 = df2.set_index('new_index')\n",
    "ddf = pd.concat([df, df2])\n",
    "ddf.drop([7, 15], inplace=True)   # category True True True is dropped here for the test!\n",
    "ddf['value'] = np.random.randn(14)\n",
    "grouped = ddf.groupby(['A', 'B', 'C']).sum()\n",
    "print grouped"
   ]
  },
  {
   "cell_type": "code",
   "execution_count": 3,
   "metadata": {
    "collapsed": false
   },
   "outputs": [
    {
     "name": "stdout",
     "output_type": "stream",
     "text": [
      "                      value\n",
      "A     B     C              \n",
      "False False False  3.205628\n",
      "            True   0.364818\n",
      "      True  False -2.112360\n",
      "            True   0.743399\n",
      "True  False False -0.283254\n",
      "            True  -0.394868\n",
      "      True  False -1.963577\n",
      "            True        NaN\n"
     ]
    }
   ],
   "source": [
    "# recover missing category\n",
    "def recover_missing_categorie(df):\n",
    "    \"\"\"\n",
    "    Return given df but with missing index combinations recovered.\n",
    "    \n",
    "    Parameters:\n",
    "    ----------\n",
    "    df: dataframe with (multi)index having binary labels (True, False). \n",
    "    \"\"\"\n",
    "    levels = df.index.levels\n",
    "    names = df.index.names\n",
    "    m = pd.MultiIndex.from_product(levels, names=names)\n",
    "    df = grouped.reindex(m)\n",
    "    return df\n",
    "\n",
    "df = recover_missing_categorie(grouped)\n",
    "print df"
   ]
  },
  {
   "cell_type": "code",
   "execution_count": 5,
   "metadata": {
    "collapsed": false
   },
   "outputs": [
    {
     "name": "stdout",
     "output_type": "stream",
     "text": [
      "                      value\n",
      "A     B     C              \n",
      "False False False  3.205628\n",
      "            True   0.364818\n",
      "                     value\n",
      "A     B    C              \n",
      "False True False -2.112360\n",
      "           True   0.743399\n",
      "                     value\n",
      "A    B     C              \n",
      "True False False -0.283254\n",
      "           True  -0.394868\n",
      "                    value\n",
      "A    B    C              \n",
      "True True False -1.963577\n",
      "          True        NaN\n"
     ]
    }
   ],
   "source": [
    "# loop through subgroups\n",
    "for name, subgroup in df.groupby(level=[0, 1]):\n",
    "    print subgroup"
   ]
  },
  {
   "cell_type": "code",
   "execution_count": null,
   "metadata": {
    "collapsed": true
   },
   "outputs": [],
   "source": []
  }
 ],
 "metadata": {
  "kernelspec": {
   "display_name": "Python 2",
   "language": "python",
   "name": "python2"
  },
  "language_info": {
   "codemirror_mode": {
    "name": "ipython",
    "version": 2
   },
   "file_extension": ".py",
   "mimetype": "text/x-python",
   "name": "python",
   "nbconvert_exporter": "python",
   "pygments_lexer": "ipython2",
   "version": "2.7.6"
  }
 },
 "nbformat": 4,
 "nbformat_minor": 0
}
