{
 "cells": [
  {
   "cell_type": "markdown",
   "metadata": {},
   "source": [
    "### get_forex_data.ipynb\n",
    "Downloads *.zip files from website forexite.com and unzips these file to *.txt files.\n",
    "Each file contains forex data for one day, indicated by the file name,\n",
    "e.g. file 060715.zip contains forex data for 6th of July, 2015.\n",
    "\n",
    "This file is downloaded from:\n",
    "http://www.forexite.com/free_forex_quotes/2015/07/060715.zip\n",
    "\n",
    "Parameters:\n",
    "- start_date = starts downloading from (if available on forexite website)\n",
    "- end_date = downloads till **but not including** given date, e.g. date(2016, 4, 28) downloads up to April 27th, 2016 (idem)\n",
    "- to_dir = directory for saving \\*.zip and unpacked \\*.txt files\n",
    "\n",
    "Returns:\n",
    "downloaded files (for each date both a zip and a txt file) in to_dir"
   ]
  },
  {
   "cell_type": "code",
   "execution_count": 1,
   "metadata": {
    "collapsed": true
   },
   "outputs": [],
   "source": [
    "import requests\n",
    "import zipfile\n",
    "import os.path\n",
    "from datetime import date, datetime, timedelta\n",
    "\n",
    "url = \"http://www.forexite.com/free_forex_quotes/\"\n"
   ]
  },
  {
   "cell_type": "code",
   "execution_count": 2,
   "metadata": {
    "collapsed": false
   },
   "outputs": [],
   "source": [
    "# select your parameters here\n",
    "start_date = date(2016, 5 , 1)\n",
    "end_date = date(2016, 6, 15)\n",
    "to_dir = '/home/pieter/projects/quantfxengine/temp/'"
   ]
  },
  {
   "cell_type": "code",
   "execution_count": 3,
   "metadata": {
    "collapsed": true
   },
   "outputs": [],
   "source": [
    "def datespan(startDate, endDate, delta=timedelta(days=1)):\n",
    "    \"\"\" iterator to iterate through files per day.\n",
    "    \"\"\"\n",
    "    currentDate = startDate\n",
    "    while currentDate < endDate:\n",
    "        yield currentDate\n",
    "        currentDate += delta"
   ]
  },
  {
   "cell_type": "code",
   "execution_count": 4,
   "metadata": {
    "collapsed": false
   },
   "outputs": [
    {
     "name": "stdout",
     "output_type": "stream",
     "text": [
      "...010516.zip: OK\n",
      "...020516.zip: OK\n",
      "...030516.zip: OK\n",
      "...040516.zip: OK\n",
      "...050516.zip: OK\n",
      "...060516.zip: OK\n",
      "...070516.zip: not available (Saturday?)\n",
      "...080516.zip: OK\n",
      "...090516.zip: OK\n",
      "...100516.zip: OK\n",
      "...110516.zip: OK\n",
      "...120516.zip: OK\n",
      "...130516.zip: OK\n",
      "...140516.zip: not available (Saturday?)\n",
      "...150516.zip: OK\n",
      "...160516.zip: OK\n",
      "...170516.zip: OK\n",
      "...180516.zip: OK\n",
      "...190516.zip: OK\n",
      "...200516.zip: OK\n",
      "...210516.zip: not available (Saturday?)\n",
      "...220516.zip: OK\n",
      "...230516.zip: OK\n",
      "...240516.zip: OK\n",
      "...250516.zip: OK\n",
      "...260516.zip: OK\n",
      "...270516.zip: OK\n",
      "...280516.zip: not available (Saturday?)\n",
      "...290516.zip: OK\n",
      "...300516.zip: OK\n",
      "...310516.zip: OK\n",
      "...010616.zip: OK\n",
      "...020616.zip: OK\n",
      "...030616.zip: OK\n",
      "...040616.zip: not available (Saturday?)\n",
      "...050616.zip: OK\n",
      "...060616.zip: OK\n",
      "...070616.zip: OK\n",
      "...080616.zip: OK\n",
      "...090616.zip: OK\n",
      "...100616.zip: OK\n",
      "...110616.zip: not available (Saturday?)\n",
      "...120616.zip: OK\n",
      "...130616.zip: OK\n",
      "...140616.zip: OK\n"
     ]
    }
   ],
   "source": [
    "for date in datespan(start_date, end_date, delta=timedelta(days=1)):\n",
    "    zfile = date.strftime('%d%m%y') + '.zip'\n",
    "    file_to_download = url + date.strftime('%Y/%m') + \"/\" + zfile\n",
    "    file_to_unzip = to_dir + zfile\n",
    "    txtfile = date.strftime('%d%m%y') + '.txt'\n",
    "    unpacked_file = to_dir + txtfile\n",
    "    \n",
    "    # download file from website\n",
    "    request = requests.get(file_to_download)\n",
    "    if request.status_code == 200:\n",
    "        print \"...%s: OK\" % zfile \n",
    "        with open(file_to_unzip, \"wb\") as f:\n",
    "            f.write(request.content)\n",
    "\n",
    "        # extract zip file\n",
    "        fh = open(file_to_unzip, \"r\")\n",
    "        with zipfile.ZipFile(fh) as z:\n",
    "            z.extractall(to_dir)\n",
    "        fh.close()\n",
    "    else:\n",
    "        print \"...%s: not available (Saturday?)\" % zfile\n",
    "    \n",
    "    "
   ]
  },
  {
   "cell_type": "code",
   "execution_count": null,
   "metadata": {
    "collapsed": true
   },
   "outputs": [],
   "source": []
  }
 ],
 "metadata": {
  "kernelspec": {
   "display_name": "Python 2",
   "language": "python",
   "name": "python2"
  },
  "language_info": {
   "codemirror_mode": {
    "name": "ipython",
    "version": 2
   },
   "file_extension": ".py",
   "mimetype": "text/x-python",
   "name": "python",
   "nbconvert_exporter": "python",
   "pygments_lexer": "ipython2",
   "version": "2.7.6"
  }
 },
 "nbformat": 4,
 "nbformat_minor": 0
}
